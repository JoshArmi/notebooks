{
 "cells": [
  {
   "cell_type": "code",
   "execution_count": 1,
   "metadata": {},
   "outputs": [
    {
     "name": "stdout",
     "output_type": "stream",
     "text": [
      "Requirement already satisfied: kubernetes in /usr/local/lib/python3.6/site-packages\n",
      "Requirement already satisfied: ipaddress>=1.0.17 in /usr/local/lib/python3.6/site-packages (from kubernetes)\n",
      "Requirement already satisfied: setuptools>=21.0.0 in /usr/local/lib/python3.6/site-packages (from kubernetes)\n",
      "Requirement already satisfied: six>=1.9.0 in /usr/local/lib/python3.6/site-packages (from kubernetes)\n",
      "Requirement already satisfied: requests in /usr/local/lib/python3.6/site-packages (from kubernetes)\n",
      "Requirement already satisfied: websocket-client<=0.40.0,>=0.32.0 in /usr/local/lib/python3.6/site-packages (from kubernetes)\n",
      "Requirement already satisfied: urllib3!=1.21,>=1.19.1 in /usr/local/lib/python3.6/site-packages (from kubernetes)\n",
      "Requirement already satisfied: pyyaml>=3.12 in /Users/josh/Library/Python/3.6/lib/python/site-packages (from kubernetes)\n",
      "Requirement already satisfied: python-dateutil>=2.5.3 in /Users/josh/Library/Python/3.6/lib/python/site-packages (from kubernetes)\n",
      "Requirement already satisfied: certifi>=14.05.14 in /usr/local/lib/python3.6/site-packages (from kubernetes)\n",
      "Requirement already satisfied: google-auth>=1.0.1 in /usr/local/lib/python3.6/site-packages (from kubernetes)\n",
      "Requirement already satisfied: chardet<3.1.0,>=3.0.2 in /usr/local/lib/python3.6/site-packages (from requests->kubernetes)\n",
      "Requirement already satisfied: idna<2.7,>=2.5 in /usr/local/lib/python3.6/site-packages (from requests->kubernetes)\n",
      "Requirement already satisfied: cachetools>=2.0.0 in /usr/local/lib/python3.6/site-packages (from google-auth>=1.0.1->kubernetes)\n",
      "Requirement already satisfied: pyasn1>=0.1.7 in /usr/local/lib/python3.6/site-packages (from google-auth>=1.0.1->kubernetes)\n",
      "Requirement already satisfied: rsa>=3.1.4 in /Users/josh/Library/Python/3.6/lib/python/site-packages (from google-auth>=1.0.1->kubernetes)\n",
      "Requirement already satisfied: pyasn1-modules>=0.0.5 in /usr/local/lib/python3.6/site-packages (from google-auth>=1.0.1->kubernetes)\n"
     ]
    }
   ],
   "source": [
    "!pip3 install kubernetes"
   ]
  },
  {
   "cell_type": "code",
   "execution_count": 2,
   "metadata": {},
   "outputs": [],
   "source": [
    "from kubernetes import client, config, watch"
   ]
  },
  {
   "cell_type": "code",
   "execution_count": 3,
   "metadata": {},
   "outputs": [],
   "source": [
    "config.load_kube_config()"
   ]
  },
  {
   "cell_type": "code",
   "execution_count": 4,
   "metadata": {},
   "outputs": [],
   "source": [
    "v1 = client.CoreV1Api()"
   ]
  },
  {
   "cell_type": "code",
   "execution_count": 5,
   "metadata": {},
   "outputs": [
    {
     "name": "stdout",
     "output_type": "stream",
     "text": [
      "172.17.0.4 default camera.config.api-86c6758569-5w57p\n",
      "172.17.0.5 default kafka-7785c49648-qv2xr\n",
      "192.168.99.100 kube-system kube-addon-manager-minikube\n",
      "172.17.0.2 kube-system kube-dns-6fc954457d-lqxrc\n",
      "172.17.0.3 kube-system kubernetes-dashboard-fwp9k\n"
     ]
    }
   ],
   "source": [
    "ret = v1.list_pod_for_all_namespaces(watch=False)\n",
    "for i in ret.items:\n",
    "    print(f'{i.status.pod_ip} {i.metadata.namespace} {i.metadata.name}')"
   ]
  },
  {
   "cell_type": "code",
   "execution_count": 8,
   "metadata": {},
   "outputs": [
    {
     "name": "stdout",
     "output_type": "stream",
     "text": [
      "{'type': 'ADDED', 'object': {'api_version': 'v1',\n",
      " 'kind': 'Pod',\n",
      " 'metadata': {'annotations': {'kubernetes.io/created-by': '{\"kind\":\"SerializedReference\",\"apiVersion\":\"v1\",\"reference\":{\"kind\":\"ReplicaSet\",\"namespace\":\"default\",\"name\":\"camera.config.api-86c6758569\",\"uid\":\"c69491ee-ca7d-11e7-8c5d-08002750304f\",\"apiVersion\":\"extensions\",\"resourceVersion\":\"914932\"}}\\n'},\n",
      "              'cluster_name': None,\n",
      "              'creation_timestamp': datetime.datetime(2017, 11, 16, 3, 25, 20, tzinfo=tzutc()),\n",
      "              'deletion_grace_period_seconds': None,\n",
      "              'deletion_timestamp': None,\n",
      "              'finalizers': None,\n",
      "              'generate_name': 'camera.config.api-86c6758569-',\n",
      "              'generation': None,\n",
      "              'initializers': None,\n",
      "              'labels': {'app': 'icetana', 'pod-template-hash': '4272314125'},\n",
      "              'name': 'camera.config.api-86c6758569-5w57p',\n",
      "              'namespace': 'default',\n",
      "              'owner_references': [{'api_version': 'extensions/v1beta1',\n",
      "                                    'block_owner_deletion': True,\n",
      "                                    'controller': True,\n",
      "                                    'kind': 'ReplicaSet',\n",
      "                                    'name': 'camera.config.api-86c6758569',\n",
      "                                    'uid': 'c69491ee-ca7d-11e7-8c5d-08002750304f'}],\n",
      "              'resource_version': '914975',\n",
      "              'self_link': '/api/v1/namespaces/default/pods/camera.config.api-86c6758569-5w57p',\n",
      "              'uid': 'c6958541-ca7d-11e7-8c5d-08002750304f'},\n",
      " 'spec': {'active_deadline_seconds': None,\n",
      "          'affinity': None,\n",
      "          'automount_service_account_token': None,\n",
      "          'containers': [{'args': None,\n",
      "                          'command': None,\n",
      "                          'env': None,\n",
      "                          'env_from': None,\n",
      "                          'image': 'quay.io/icetana/camera-config-api',\n",
      "                          'image_pull_policy': 'Always',\n",
      "                          'lifecycle': None,\n",
      "                          'liveness_probe': None,\n",
      "                          'name': 'camera-config-api',\n",
      "                          'ports': None,\n",
      "                          'readiness_probe': None,\n",
      "                          'resources': {'limits': None, 'requests': None},\n",
      "                          'security_context': None,\n",
      "                          'stdin': None,\n",
      "                          'stdin_once': None,\n",
      "                          'termination_message_path': '/dev/termination-log',\n",
      "                          'termination_message_policy': 'File',\n",
      "                          'tty': None,\n",
      "                          'volume_mounts': [{'mount_path': '/var/run/secrets/kubernetes.io/serviceaccount',\n",
      "                                             'name': 'default-token-nzwnk',\n",
      "                                             'read_only': True,\n",
      "                                             'sub_path': None}],\n",
      "                          'working_dir': None}],\n",
      "          'dns_policy': 'ClusterFirst',\n",
      "          'host_aliases': None,\n",
      "          'host_ipc': None,\n",
      "          'host_network': None,\n",
      "          'host_pid': None,\n",
      "          'hostname': None,\n",
      "          'image_pull_secrets': [{'name': 'icetana-docker-pull-secret'}],\n",
      "          'init_containers': None,\n",
      "          'node_name': 'minikube',\n",
      "          'node_selector': None,\n",
      "          'restart_policy': 'Always',\n",
      "          'scheduler_name': 'default-scheduler',\n",
      "          'security_context': {'fs_group': None,\n",
      "                               'run_as_non_root': None,\n",
      "                               'run_as_user': None,\n",
      "                               'se_linux_options': None,\n",
      "                               'supplemental_groups': None},\n",
      "          'service_account': 'default',\n",
      "          'service_account_name': 'default',\n",
      "          'subdomain': None,\n",
      "          'termination_grace_period_seconds': 30,\n",
      "          'tolerations': None,\n",
      "          'volumes': [{'aws_elastic_block_store': None,\n",
      "                       'azure_disk': None,\n",
      "                       'azure_file': None,\n",
      "                       'cephfs': None,\n",
      "                       'cinder': None,\n",
      "                       'config_map': None,\n",
      "                       'downward_api': None,\n",
      "                       'empty_dir': None,\n",
      "                       'fc': None,\n",
      "                       'flex_volume': None,\n",
      "                       'flocker': None,\n",
      "                       'gce_persistent_disk': None,\n",
      "                       'git_repo': None,\n",
      "                       'glusterfs': None,\n",
      "                       'host_path': None,\n",
      "                       'iscsi': None,\n",
      "                       'name': 'default-token-nzwnk',\n",
      "                       'nfs': None,\n",
      "                       'persistent_volume_claim': None,\n",
      "                       'photon_persistent_disk': None,\n",
      "                       'portworx_volume': None,\n",
      "                       'projected': None,\n",
      "                       'quobyte': None,\n",
      "                       'rbd': None,\n",
      "                       'scale_io': None,\n",
      "                       'secret': {'default_mode': 420,\n",
      "                                  'items': None,\n",
      "                                  'optional': None,\n",
      "                                  'secret_name': 'default-token-nzwnk'},\n",
      "                       'storageos': None,\n",
      "                       'vsphere_volume': None}]},\n",
      " 'status': {'conditions': [{'last_probe_time': None,\n",
      "                            'last_transition_time': datetime.datetime(2017, 11, 16, 3, 25, 20, tzinfo=tzutc()),\n",
      "                            'message': None,\n",
      "                            'reason': None,\n",
      "                            'status': 'True',\n",
      "                            'type': 'Initialized'},\n",
      "                           {'last_probe_time': None,\n",
      "                            'last_transition_time': datetime.datetime(2017, 11, 16, 3, 25, 45, tzinfo=tzutc()),\n",
      "                            'message': None,\n",
      "                            'reason': None,\n",
      "                            'status': 'True',\n",
      "                            'type': 'Ready'},\n",
      "                           {'last_probe_time': None,\n",
      "                            'last_transition_time': datetime.datetime(2017, 11, 16, 3, 25, 20, tzinfo=tzutc()),\n",
      "                            'message': None,\n",
      "                            'reason': None,\n",
      "                            'status': 'True',\n",
      "                            'type': 'PodScheduled'}],\n",
      "            'container_statuses': [{'container_id': 'docker://f3352ff8f7ac5e3de3dcc8fbfa59572c73bc9d6b0b342465fc27689919ec3265',\n",
      "                                    'image': 'quay.io/icetana/camera-config-api:latest',\n",
      "                                    'image_id': 'docker-pullable://quay.io/icetana/camera-config-api@sha256:06eb38de814951bf86589ca0d7424c02126ab73c457444d780503d784a84825e',\n",
      "                                    'last_state': {'running': None,\n",
      "                                                   'terminated': None,\n",
      "                                                   'waiting': None},\n",
      "                                    'name': 'camera-config-api',\n",
      "                                    'ready': True,\n",
      "                                    'restart_count': 0,\n",
      "                                    'state': {'running': {'started_at': datetime.datetime(2017, 11, 16, 3, 25, 44, tzinfo=tzutc())},\n",
      "                                              'terminated': None,\n",
      "                                              'waiting': None}}],\n",
      "            'host_ip': '192.168.99.100',\n",
      "            'init_container_statuses': None,\n",
      "            'message': None,\n",
      "            'phase': 'Running',\n",
      "            'pod_ip': '172.17.0.4',\n",
      "            'qos_class': 'BestEffort',\n",
      "            'reason': None,\n",
      "            'start_time': datetime.datetime(2017, 11, 16, 3, 25, 20, tzinfo=tzutc())}}, 'raw_object': {'kind': 'Pod', 'apiVersion': 'v1', 'metadata': {'name': 'camera.config.api-86c6758569-5w57p', 'generateName': 'camera.config.api-86c6758569-', 'namespace': 'default', 'selfLink': '/api/v1/namespaces/default/pods/camera.config.api-86c6758569-5w57p', 'uid': 'c6958541-ca7d-11e7-8c5d-08002750304f', 'resourceVersion': '914975', 'creationTimestamp': '2017-11-16T03:25:20Z', 'labels': {'app': 'icetana', 'pod-template-hash': '4272314125'}, 'annotations': {'kubernetes.io/created-by': '{\"kind\":\"SerializedReference\",\"apiVersion\":\"v1\",\"reference\":{\"kind\":\"ReplicaSet\",\"namespace\":\"default\",\"name\":\"camera.config.api-86c6758569\",\"uid\":\"c69491ee-ca7d-11e7-8c5d-08002750304f\",\"apiVersion\":\"extensions\",\"resourceVersion\":\"914932\"}}\\n'}, 'ownerReferences': [{'apiVersion': 'extensions/v1beta1', 'kind': 'ReplicaSet', 'name': 'camera.config.api-86c6758569', 'uid': 'c69491ee-ca7d-11e7-8c5d-08002750304f', 'controller': True, 'blockOwnerDeletion': True}]}, 'spec': {'volumes': [{'name': 'default-token-nzwnk', 'secret': {'secretName': 'default-token-nzwnk', 'defaultMode': 420}}], 'containers': [{'name': 'camera-config-api', 'image': 'quay.io/icetana/camera-config-api', 'resources': {}, 'volumeMounts': [{'name': 'default-token-nzwnk', 'readOnly': True, 'mountPath': '/var/run/secrets/kubernetes.io/serviceaccount'}], 'terminationMessagePath': '/dev/termination-log', 'terminationMessagePolicy': 'File', 'imagePullPolicy': 'Always'}], 'restartPolicy': 'Always', 'terminationGracePeriodSeconds': 30, 'dnsPolicy': 'ClusterFirst', 'serviceAccountName': 'default', 'serviceAccount': 'default', 'nodeName': 'minikube', 'securityContext': {}, 'imagePullSecrets': [{'name': 'icetana-docker-pull-secret'}], 'schedulerName': 'default-scheduler'}, 'status': {'phase': 'Running', 'conditions': [{'type': 'Initialized', 'status': 'True', 'lastProbeTime': None, 'lastTransitionTime': '2017-11-16T03:25:20Z'}, {'type': 'Ready', 'status': 'True', 'lastProbeTime': None, 'lastTransitionTime': '2017-11-16T03:25:45Z'}, {'type': 'PodScheduled', 'status': 'True', 'lastProbeTime': None, 'lastTransitionTime': '2017-11-16T03:25:20Z'}], 'hostIP': '192.168.99.100', 'podIP': '172.17.0.4', 'startTime': '2017-11-16T03:25:20Z', 'containerStatuses': [{'name': 'camera-config-api', 'state': {'running': {'startedAt': '2017-11-16T03:25:44Z'}}, 'lastState': {}, 'ready': True, 'restartCount': 0, 'image': 'quay.io/icetana/camera-config-api:latest', 'imageID': 'docker-pullable://quay.io/icetana/camera-config-api@sha256:06eb38de814951bf86589ca0d7424c02126ab73c457444d780503d784a84825e', 'containerID': 'docker://f3352ff8f7ac5e3de3dcc8fbfa59572c73bc9d6b0b342465fc27689919ec3265'}], 'qosClass': 'BestEffort'}}}\n"
     ]
    }
   ],
   "source": [
    "count = 1\n",
    "w = watch.Watch()\n",
    "for event in w.stream(v1.list_pod_for_all_namespaces, _request_timeout=300):\n",
    "    print(f'{event}')\n",
    "    count -= 1\n",
    "    if not count:\n",
    "        w.stop()"
   ]
  },
  {
   "cell_type": "code",
   "execution_count": null,
   "metadata": {},
   "outputs": [],
   "source": []
  }
 ],
 "metadata": {
  "kernelspec": {
   "display_name": "Python 3",
   "language": "python",
   "name": "python3"
  },
  "language_info": {
   "codemirror_mode": {
    "name": "ipython",
    "version": 3
   },
   "file_extension": ".py",
   "mimetype": "text/x-python",
   "name": "python",
   "nbconvert_exporter": "python",
   "pygments_lexer": "ipython3",
   "version": "3.6.2"
  }
 },
 "nbformat": 4,
 "nbformat_minor": 2
}
